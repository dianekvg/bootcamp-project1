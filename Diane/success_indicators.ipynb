{
 "cells": [
  {
   "cell_type": "code",
   "execution_count": 1,
   "metadata": {},
   "outputs": [],
   "source": [
    "# dependencies\n",
    "import pandas as pd\n",
    "import requests\n",
    "import json\n",
    "import matplotlib.pyplot as plt\n",
    "from citipy import citipy\n",
    "import numpy as np\n",
    "#import time\n",
    "import os\n",
    "import chardet\n",
    "\n",
    "# establish openweather API key/url\n",
    "file_name = \"../../../PythonScripts/BootcampExercises/API_Keys/api_keys.json\"\n",
    "data = json.load(open(file_name))\n",
    "key = data['openweather']\n",
    "url = \"http://api.openweathermap.org/data/2.5/weather?\"\n",
    "units = \"imperial\"\n",
    "query_url = url + \"appid=\" + key + \"&units=\" + units + \"&q=\"\n",
    "\n",
    "# get olympic data files\n",
    "csv_path = os.path.join(\"../Resources\", \"GDP_allyears.csv\")\n",
    "gdp = pd.read_csv(csv_path)\n",
    "csv_path = os.path.join(\"../Resources\", \"country_participation.csv\")\n",
    "participation = pd.read_csv(csv_path)\n",
    "csv_path = os.path.join(\"../Resources\", \"country_codes.csv\")\n",
    "codes = pd.read_csv(csv_path)\n",
    "csv_path = os.path.join(\"../Resources\", \"country_coordinates.csv\")\n",
    "with open(csv_path, 'rb') as f:\n",
    "    result = chardet.detect(f.read())\n",
    "coordinates = pd.read_csv(csv_path, encoding=result['encoding'])"
   ]
  },
  {
   "cell_type": "code",
   "execution_count": 2,
   "metadata": {},
   "outputs": [],
   "source": [
    "# join in country codes\n",
    "participation = participation.merge(codes, on='Country', how='left')\n",
    "\n",
    "# clean/format participation data set\n",
    "participation[\"TotalMedals\"] = participation[\"Gold\"] + participation[\"Silver\"] + participation[\"Bronze\"]\n",
    "participation = participation.fillna(0)\n",
    "participation[\"From\"] = participation[\"From\"].astype(int)\n",
    "participation[\"To\"] = participation[\"To\"].astype(int)\n",
    "participation[\"Gold\"] = participation[\"Gold\"].astype(int)\n",
    "participation[\"Silver\"] = participation[\"Silver\"].astype(int)\n",
    "participation[\"Bronze\"] = participation[\"Bronze\"].astype(int)\n",
    "participation[\"Sports\"] = participation[\"Sports\"].astype(int)\n",
    "participation[\"TotalAthletes\"] = participation[\"Participants\"].astype(int)\n",
    "participation = participation.drop('Participants', 1)\n",
    "participation[\"TotalMedals\"] = participation[\"TotalMedals\"].astype(int)\n",
    "participation = participation.rename(columns={'Code':'CountryCode','Sports': 'TotalSports','Gold':'TotalGold','Silver':'TotalSilver','Bronze':'TotalBronze'})"
   ]
  },
  {
   "cell_type": "code",
   "execution_count": 3,
   "metadata": {
    "collapsed": true
   },
   "outputs": [],
   "source": [
    "# determine number of participation years\n",
    "gameyears = [1924, 1928, 1932, 1936, 1948, 1952, 1956, 1960, 1964, 1968, 1972, 1976, 1980, 1984, 1988, 1992, 1994, 1998, 2002, 2006, 2010, 2014]\n",
    "for index, row in participation.iterrows():\n",
    "    counter = 0\n",
    "    To = row[2]\n",
    "    From = row[1]\n",
    "    for year in gameyears:\n",
    "        if year >= From and year <= To:\n",
    "            counter = counter+1\n",
    "    participation.loc[index, \"TotalYears\"] = counter\n",
    "participation[\"TotalYears\"] = participation[\"TotalYears\"].astype(int)"
   ]
  },
  {
   "cell_type": "code",
   "execution_count": 4,
   "metadata": {},
   "outputs": [],
   "source": [
    "# find average medals per year per country\n",
    "participation[\"AvgMedalsPerYear\"] = round(participation[\"TotalMedals\"]/participation[\"TotalYears\"],1)\n",
    "\n",
    "# find average participants per year per country\n",
    "participation[\"AvgAthletePerYear\"] = round(participation[\"TotalAthletes\"]/participation[\"TotalYears\"],1)\n",
    "\n",
    "# find average sports per year per country\n",
    "participation[\"AvgSportsPerYear\"] = round(participation[\"TotalSports\"]/participation[\"TotalYears\"],1)\n",
    "\n",
    "# find average participants per sport per country\n",
    "participation[\"AvgAthletePerSport\"] = round(participation[\"TotalAthletes\"]/participation[\"TotalSports\"],1)\n",
    "\n",
    "# join in country coordinates with participation data\n",
    "coordinates = coordinates.rename(columns={'Name':'Country'})\n",
    "participation = participation.merge(coordinates, on='Country', how='left')"
   ]
  },
  {
   "cell_type": "code",
   "execution_count": 5,
   "metadata": {},
   "outputs": [],
   "source": [
    "# group GDP data by country, generate total of GDP yearly data points per country\n",
    "country_groups = gdp.groupby(\"COUNTRY\")\n",
    "gpd_groups = pd.DataFrame(country_groups[\"COUNTRY\"].value_counts())\n",
    "gpd_groups = gpd_groups.rename(columns={'COUNTRY': 'TotalRecords'})\n",
    "gpd_groups = gpd_groups.reset_index(level=0)\n",
    "gpd_groups = gpd_groups.rename(columns={'COUNTRY': 'CountryCode'})\n",
    "gpd_groups.index = range(len(gpd_groups))\n",
    "gpd_groups.head()\n",
    "\n",
    "# group GDP data by country, generate SUM of all GDP yearly records\n",
    "country_totals = gdp.groupby(\"COUNTRY\")\n",
    "gpd_totals = pd.DataFrame(country_totals[\"USDperCapita\"].sum())\n",
    "gpd_totals = gpd_totals.rename(columns={'COUNTRY': 'TotalGDP'})\n",
    "gpd_totals = gpd_totals.reset_index(level=0)\n",
    "gpd_totals = gpd_totals.rename(columns={'COUNTRY': 'CountryCode'})\n",
    "gpd_totals.index = range(len(gpd_groups))\n",
    "gpd_totals.head()\n",
    "\n",
    "# join in country codes, calculate average GDP\n",
    "GDP = gpd_groups.merge(gpd_totals, on='CountryCode', how='left')\n",
    "GDP[\"AvgGDP\"] = round(GDP[\"USDperCapita\"]/GDP[\"TotalRecords\"],2)\n",
    "\n",
    "# join in country codes, calculate average GDP, produce final table for GDP regression\n",
    "GDP = GDP.merge(participation, on='CountryCode', how='left')\n",
    "GDP = GDP[pd.notnull(GDP['Country'])]"
   ]
  },
  {
   "cell_type": "code",
   "execution_count": 6,
   "metadata": {},
   "outputs": [],
   "source": [
    "# find reference city for each country\n",
    "for index, row in participation.iterrows():\n",
    "    Lat = row[15]\n",
    "    Lon = row[16]\n",
    "    findcity = citipy.nearest_city(Lat,Lon)\n",
    "    city = findcity.city_name\n",
    "    participation.loc[index, \"CentralCity\"] = city\n",
    "    \n",
    "# get temperature for central cities\n",
    "for index, row in participation.iterrows():\n",
    "    responseholder = []\n",
    "    city = row[17]\n",
    "    target_url = query_url + city.replace(\" \",\"+\")\n",
    "    response = requests.get(target_url).json()\n",
    "    if response[\"cod\"] == 200:\n",
    "        responseholder.append(response)\n",
    "        tempresponse = [data.get(\"main\").get(\"temp\") for data in responseholder]\n",
    "        participation.loc[index, \"Temp\"] = tempresponse[0]\n",
    "        \n",
    "# remove null temps, create final dataframe for temperature regression\n",
    "temps = participation[pd.notnull(participation['Temp'])]"
   ]
  },
  {
   "cell_type": "code",
   "execution_count": null,
   "metadata": {},
   "outputs": [],
   "source": []
  },
  {
   "cell_type": "code",
   "execution_count": 7,
   "metadata": {},
   "outputs": [
    {
     "data": {
      "image/png": "[encoded data removed]",
      "text/plain": [
       "<matplotlib.figure.Figure at 0x2c4a29fb828>"
      ]
     },
     "metadata": {},
     "output_type": "display_data"
    }
   ],
   "source": [
    "x = GDP['AvgGDP']\n",
    "x = x.values.reshape(-1,1)\n",
    "y = GDP['AvgMedalsPerYear']\n",
    "y = y.values.reshape(-1,1)\n",
    "\n",
    "from sklearn.model_selection import train_test_split\n",
    "x_train, x_test, y_train, y_test = train_test_split(x, y, test_size=0.3, random_state=220)\n",
    "#x_train, x_test, y_train, y_test = train_test_split(x, y, test_size=0.3, random_state=2)\n",
    "\n",
    "from sklearn.linear_model import LinearRegression\n",
    "model = LinearRegression()\n",
    "model.fit(x_train, y_train)\n",
    "\n",
    "plt.figure(figsize=(5,5))\n",
    "plt.scatter(x, y, c='steelblue', edgecolor='white', s=70)\n",
    "x = np.array([min(temps['Temp']),max(temps['Temp'])])\n",
    "f = lambda x: model.coef_[0]*x + model.intercept_\n",
    "plt.plot(x,f(x),color='black', lw=1)\n",
    "plt.ylabel(\"Test Country Medals\")\n",
    "plt.xlabel(\"Test Country GDP\")\n",
    "plt.show()"
   ]
  },
  {
   "cell_type": "code",
   "execution_count": 8,
   "metadata": {},
   "outputs": [
    {
     "data": {
      "text/plain": [
       "array([[ 2.5712018 ],\n",
       "       [ 1.29329012],\n",
       "       [ 0.96088671],\n",
       "       [ 1.98105316],\n",
       "       [ 3.85568212],\n",
       "       [ 2.32378254],\n",
       "       [ 1.39716606],\n",
       "       [ 4.86298542],\n",
       "       [ 2.99997061],\n",
       "       [ 2.2830599 ],\n",
       "       [ 3.31132224],\n",
       "       [-0.31687245],\n",
       "       [ 0.98487964],\n",
       "       [ 3.85940853],\n",
       "       [ 4.83184264],\n",
       "       [ 2.2988745 ],\n",
       "       [ 3.85906639],\n",
       "       [ 1.04870484],\n",
       "       [ 0.80341673],\n",
       "       [ 7.81892664],\n",
       "       [ 1.06113722],\n",
       "       [ 0.71745975],\n",
       "       [ 1.9361115 ],\n",
       "       [ 3.33378586],\n",
       "       [ 2.69642632],\n",
       "       [-0.19669344],\n",
       "       [ 4.49805624],\n",
       "       [ 3.69508343],\n",
       "       [ 3.29690917],\n",
       "       [ 2.55362498],\n",
       "       [ 4.5404463 ],\n",
       "       [ 3.87001068],\n",
       "       [ 3.44752814],\n",
       "       [ 3.22146571]])"
      ]
     },
     "execution_count": 8,
     "metadata": {},
     "output_type": "execute_result"
    }
   ],
   "source": [
    "model.predict(x_train)"
   ]
  },
  {
   "cell_type": "code",
   "execution_count": 9,
   "metadata": {},
   "outputs": [
    {
     "ename": "ValueError",
     "evalue": "Expected 2D array, got 1D array instead:\narray=[-20.21  89.6 ].\nReshape your data either using array.reshape(-1, 1) if your data has a single feature or array.reshape(1, -1) if it contains a single sample.",
     "output_type": "error",
     "traceback": [
      "\u001b[1;31m---------------------------------------------------------------------------\u001b[0m",
      "\u001b[1;31mValueError\u001b[0m                                Traceback (most recent call last)",
      "\u001b[1;32m<ipython-input-9-1652319c93f1>\u001b[0m in \u001b[0;36m<module>\u001b[1;34m()\u001b[0m\n\u001b[0;32m      1\u001b[0m \u001b[1;32mfrom\u001b[0m \u001b[0msklearn\u001b[0m\u001b[1;33m.\u001b[0m\u001b[0mlinear_model\u001b[0m \u001b[1;32mimport\u001b[0m \u001b[0mLinearRegression\u001b[0m\u001b[1;33m\u001b[0m\u001b[0m\n\u001b[0;32m      2\u001b[0m \u001b[0mmodel\u001b[0m \u001b[1;33m=\u001b[0m \u001b[0mLinearRegression\u001b[0m\u001b[1;33m(\u001b[0m\u001b[1;33m)\u001b[0m\u001b[1;33m\u001b[0m\u001b[0m\n\u001b[1;32m----> 3\u001b[1;33m \u001b[0mmodel\u001b[0m\u001b[1;33m.\u001b[0m\u001b[0mfit\u001b[0m\u001b[1;33m(\u001b[0m\u001b[0mx\u001b[0m\u001b[1;33m,\u001b[0m \u001b[0my\u001b[0m\u001b[1;33m)\u001b[0m\u001b[1;33m\u001b[0m\u001b[0m\n\u001b[0m\u001b[0;32m      4\u001b[0m \u001b[0mplt\u001b[0m\u001b[1;33m.\u001b[0m\u001b[0mfigure\u001b[0m\u001b[1;33m(\u001b[0m\u001b[0mfigsize\u001b[0m\u001b[1;33m=\u001b[0m\u001b[1;33m(\u001b[0m\u001b[1;36m5\u001b[0m\u001b[1;33m,\u001b[0m\u001b[1;36m5\u001b[0m\u001b[1;33m)\u001b[0m\u001b[1;33m)\u001b[0m\u001b[1;33m\u001b[0m\u001b[0m\n\u001b[0;32m      5\u001b[0m \u001b[0mplt\u001b[0m\u001b[1;33m.\u001b[0m\u001b[0mscatter\u001b[0m\u001b[1;33m(\u001b[0m\u001b[0mx\u001b[0m\u001b[1;33m,\u001b[0m \u001b[0my\u001b[0m\u001b[1;33m,\u001b[0m \u001b[0mc\u001b[0m\u001b[1;33m=\u001b[0m\u001b[1;34m'steelblue'\u001b[0m\u001b[1;33m,\u001b[0m \u001b[0medgecolor\u001b[0m\u001b[1;33m=\u001b[0m\u001b[1;34m'white'\u001b[0m\u001b[1;33m,\u001b[0m \u001b[0ms\u001b[0m\u001b[1;33m=\u001b[0m\u001b[1;36m70\u001b[0m\u001b[1;33m)\u001b[0m\u001b[1;33m\u001b[0m\u001b[0m\n",
      "\u001b[1;32m~\\Anaconda3\\lib\\site-packages\\sklearn\\linear_model\\base.py\u001b[0m in \u001b[0;36mfit\u001b[1;34m(self, X, y, sample_weight)\u001b[0m\n\u001b[0;32m    480\u001b[0m         \u001b[0mn_jobs_\u001b[0m \u001b[1;33m=\u001b[0m \u001b[0mself\u001b[0m\u001b[1;33m.\u001b[0m\u001b[0mn_jobs\u001b[0m\u001b[1;33m\u001b[0m\u001b[0m\n\u001b[0;32m    481\u001b[0m         X, y = check_X_y(X, y, accept_sparse=['csr', 'csc', 'coo'],\n\u001b[1;32m--> 482\u001b[1;33m                          y_numeric=True, multi_output=True)\n\u001b[0m\u001b[0;32m    483\u001b[0m \u001b[1;33m\u001b[0m\u001b[0m\n\u001b[0;32m    484\u001b[0m         \u001b[1;32mif\u001b[0m \u001b[0msample_weight\u001b[0m \u001b[1;32mis\u001b[0m \u001b[1;32mnot\u001b[0m \u001b[1;32mNone\u001b[0m \u001b[1;32mand\u001b[0m \u001b[0mnp\u001b[0m\u001b[1;33m.\u001b[0m\u001b[0matleast_1d\u001b[0m\u001b[1;33m(\u001b[0m\u001b[0msample_weight\u001b[0m\u001b[1;33m)\u001b[0m\u001b[1;33m.\u001b[0m\u001b[0mndim\u001b[0m \u001b[1;33m>\u001b[0m \u001b[1;36m1\u001b[0m\u001b[1;33m:\u001b[0m\u001b[1;33m\u001b[0m\u001b[0m\n",
      "\u001b[1;32m~\\Anaconda3\\lib\\site-packages\\sklearn\\utils\\validation.py\u001b[0m in \u001b[0;36mcheck_X_y\u001b[1;34m(X, y, accept_sparse, dtype, order, copy, force_all_finite, ensure_2d, allow_nd, multi_output, ensure_min_samples, ensure_min_features, y_numeric, warn_on_dtype, estimator)\u001b[0m\n\u001b[0;32m    571\u001b[0m     X = check_array(X, accept_sparse, dtype, order, copy, force_all_finite,\n\u001b[0;32m    572\u001b[0m                     \u001b[0mensure_2d\u001b[0m\u001b[1;33m,\u001b[0m \u001b[0mallow_nd\u001b[0m\u001b[1;33m,\u001b[0m \u001b[0mensure_min_samples\u001b[0m\u001b[1;33m,\u001b[0m\u001b[1;33m\u001b[0m\u001b[0m\n\u001b[1;32m--> 573\u001b[1;33m                     ensure_min_features, warn_on_dtype, estimator)\n\u001b[0m\u001b[0;32m    574\u001b[0m     \u001b[1;32mif\u001b[0m \u001b[0mmulti_output\u001b[0m\u001b[1;33m:\u001b[0m\u001b[1;33m\u001b[0m\u001b[0m\n\u001b[0;32m    575\u001b[0m         y = check_array(y, 'csr', force_all_finite=True, ensure_2d=False,\n",
      "\u001b[1;32m~\\Anaconda3\\lib\\site-packages\\sklearn\\utils\\validation.py\u001b[0m in \u001b[0;36mcheck_array\u001b[1;34m(array, accept_sparse, dtype, order, copy, force_all_finite, ensure_2d, allow_nd, ensure_min_samples, ensure_min_features, warn_on_dtype, estimator)\u001b[0m\n\u001b[0;32m    439\u001b[0m                     \u001b[1;34m\"Reshape your data either using array.reshape(-1, 1) if \"\u001b[0m\u001b[1;33m\u001b[0m\u001b[0m\n\u001b[0;32m    440\u001b[0m                     \u001b[1;34m\"your data has a single feature or array.reshape(1, -1) \"\u001b[0m\u001b[1;33m\u001b[0m\u001b[0m\n\u001b[1;32m--> 441\u001b[1;33m                     \"if it contains a single sample.\".format(array))\n\u001b[0m\u001b[0;32m    442\u001b[0m             \u001b[0marray\u001b[0m \u001b[1;33m=\u001b[0m \u001b[0mnp\u001b[0m\u001b[1;33m.\u001b[0m\u001b[0matleast_2d\u001b[0m\u001b[1;33m(\u001b[0m\u001b[0marray\u001b[0m\u001b[1;33m)\u001b[0m\u001b[1;33m\u001b[0m\u001b[0m\n\u001b[0;32m    443\u001b[0m             \u001b[1;31m# To ensure that array flags are maintained\u001b[0m\u001b[1;33m\u001b[0m\u001b[1;33m\u001b[0m\u001b[0m\n",
      "\u001b[1;31mValueError\u001b[0m: Expected 2D array, got 1D array instead:\narray=[-20.21  89.6 ].\nReshape your data either using array.reshape(-1, 1) if your data has a single feature or array.reshape(1, -1) if it contains a single sample."
     ]
    }
   ],
   "source": [
    "from sklearn.linear_model import LinearRegression\n",
    "model = LinearRegression()\n",
    "model.fit(x, y)\n",
    "plt.figure(figsize=(5,5))\n",
    "plt.scatter(x, y, c='steelblue', edgecolor='white', s=70)\n",
    "plt.plot(x, model.predict(x), color='black', lw=2)\n",
    "plt.show()"
   ]
  },
  {
   "cell_type": "code",
   "execution_count": null,
   "metadata": {
    "collapsed": true
   },
   "outputs": [],
   "source": []
  },
  {
   "cell_type": "code",
   "execution_count": null,
   "metadata": {
    "collapsed": true
   },
   "outputs": [],
   "source": []
  },
  {
   "cell_type": "code",
   "execution_count": null,
   "metadata": {
    "collapsed": true
   },
   "outputs": [],
   "source": []
  },
  {
   "cell_type": "code",
   "execution_count": null,
   "metadata": {
    "collapsed": true
   },
   "outputs": [],
   "source": []
  },
  {
   "cell_type": "code",
   "execution_count": null,
   "metadata": {
    "collapsed": true
   },
   "outputs": [],
   "source": [
    "###################################################################################3#####"
   ]
  },
  {
   "cell_type": "code",
   "execution_count": null,
   "metadata": {
    "collapsed": true
   },
   "outputs": [],
   "source": [
    "temps = temps.drop(temps[temps.AvgMedalsPerYear < 1].index)\n",
    "GDP = GDP.drop(GDP[GDP.AvgMedalsPerYear < 1].index)"
   ]
  },
  {
   "cell_type": "code",
   "execution_count": null,
   "metadata": {},
   "outputs": [],
   "source": [
    "# avg medals per year vs. temperature\n",
    "\n",
    "plt.figure(figsize=(10,6))\n",
    "plt.style.use('seaborn')\n",
    "#plt.title(\"City Latitude vs. Temperature\\nUpdated: \"+ (time.strftime(\"%m/%d/%Y\")))\n",
    "#plt.xlabel(\"Latitude\")\n",
    "#plt.ylabel(\"Max Temperature (F)\")\n",
    "plt.scatter(temps[\"Temp\"], temps[\"AvgMedalsPerYear\"], alpha=.55,\n",
    "            c=\"c\", edgecolors=\"black\", linewidth=1)\n",
    "#plt.savefig('temperature.png')\n",
    "plt.show()"
   ]
  },
  {
   "cell_type": "code",
   "execution_count": null,
   "metadata": {},
   "outputs": [],
   "source": [
    "# avg medals per year vs. avg GDP\n",
    "\n",
    "plt.figure(figsize=(10,6))\n",
    "plt.style.use('seaborn')\n",
    "#plt.title(\"City Latitude vs. Temperature\\nUpdated: \"+ (time.strftime(\"%m/%d/%Y\")))\n",
    "#plt.xlabel(\"Latitude\")\n",
    "#plt.ylabel(\"Max Temperature (F)\")\n",
    "plt.scatter(GDP[\"AvgGDP\"], GDP[\"AvgMedalsPerYear\"], alpha=.55,\n",
    "            c=\"c\", edgecolors=\"black\", linewidth=1)\n",
    "#plt.savefig('temperature.png')\n",
    "plt.show()"
   ]
  },
  {
   "cell_type": "code",
   "execution_count": null,
   "metadata": {},
   "outputs": [],
   "source": [
    "# avg medals per year vs. temperature\n",
    "\n",
    "plt.figure(figsize=(10,6))\n",
    "plt.style.use('seaborn')\n",
    "#plt.title(\"City Latitude vs. Temperature\\nUpdated: \"+ (time.strftime(\"%m/%d/%Y\")))\n",
    "#plt.xlabel(\"Latitude\")\n",
    "#plt.ylabel(\"Max Temperature (F)\")\n",
    "plt.scatter(temps[\"Lat\"], temps[\"AvgMedalsPerYear\"], alpha=.55,\n",
    "            c=\"c\", edgecolors=\"black\", linewidth=1)\n",
    "#plt.savefig('temperature.png')\n",
    "plt.show()"
   ]
  },
  {
   "cell_type": "code",
   "execution_count": null,
   "metadata": {},
   "outputs": [],
   "source": []
  }
 ],
 "metadata": {
  "kernelspec": {
   "display_name": "Python 3",
   "language": "python",
   "name": "python3"
  },
  "language_info": {
   "codemirror_mode": {
    "name": "ipython",
    "version": 3
   },
   "file_extension": ".py",
   "mimetype": "text/x-python",
   "name": "python",
   "nbconvert_exporter": "python",
   "pygments_lexer": "ipython3",
   "version": "3.6.3"
  }
 },
 "nbformat": 4,
 "nbformat_minor": 2
}
